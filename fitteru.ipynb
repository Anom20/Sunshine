{
 "cells": [
  {
   "cell_type": "markdown",
   "id": "966e89dd",
   "metadata": {},
   "source": [
    "# LSE DA Course 2 convener tutorial notes"
   ]
  },
  {
   "cell_type": "markdown",
   "id": "3ade30ac",
   "metadata": {},
   "source": [
    "## Simple code"
   ]
  },
  {
   "cell_type": "code",
   "execution_count": null,
   "id": "3fe3c147",
   "metadata": {},
   "outputs": [],
   "source": [
    "happy = input(\"Are you happy?\")\n",
    "if happy = \"yes\":\n",
    "    print(\"Fantastic!\")\n",
    "else:\n",
    "    print(\"Sorry to hear that!\")"
   ]
  },
  {
   "cell_type": "code",
   "execution_count": null,
   "id": "8e11cb90",
   "metadata": {},
   "outputs": [],
   "source": []
  }
 ],
 "metadata": {
  "kernelspec": {
   "display_name": "Python 3 (ipykernel)",
   "language": "python",
   "name": "python3"
  },
  "language_info": {
   "codemirror_mode": {
    "name": "ipython",
    "version": 3
   },
   "file_extension": ".py",
   "mimetype": "text/x-python",
   "name": "python",
   "nbconvert_exporter": "python",
   "pygments_lexer": "ipython3",
   "version": "3.9.7"
  }
 },
 "nbformat": 4,
 "nbformat_minor": 5
}
